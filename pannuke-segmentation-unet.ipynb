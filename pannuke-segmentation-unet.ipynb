{
 "cells": [
  {
   "cell_type": "markdown",
   "metadata": {},
   "source": [
    "**PanNuke Dataset Segmentation**\n",
    "\n",
    "6 Masks \n",
    "* 0: Neoplastic cells\n",
    "* 1: Inflammatory \n",
    "* 2: Connective/Soft tissue cells\n",
    "* 3: Dead Cells\n",
    "* 4: Epithelial \n",
    "* 6: Background"
   ]
  },
  {
   "cell_type": "markdown",
   "metadata": {},
   "source": [
    "**Train, Test, Val Paths**"
   ]
  },
  {
   "cell_type": "code",
   "execution_count": null,
   "metadata": {
    "_cell_guid": "b1076dfc-b9ad-4769-8c92-a6c4dae69d19",
    "_uuid": "8f2839f25d086af736a60e9eeb907d3b93b6e0e5",
    "execution": {
     "iopub.execute_input": "2024-05-10T11:20:10.629087Z",
     "iopub.status.busy": "2024-05-10T11:20:10.6285Z",
     "iopub.status.idle": "2024-05-10T11:20:10.640567Z",
     "shell.execute_reply": "2024-05-10T11:20:10.639723Z",
     "shell.execute_reply.started": "2024-05-10T11:20:10.629058Z"
    },
    "trusted": true
   },
   "outputs": [],
   "source": [
    "train_images_path = '/kaggle/input/pannuke-images-dataset/Pan Nuke - Reduced/train/images/'\n",
    "train_masks_path = '/kaggle/input/pannuke-images-dataset/Pan Nuke - Reduced/train/masks/'\n",
    "\n",
    "test_images_path = '/kaggle/input/pannuke-images-dataset/Pan Nuke - Reduced/test/images/'\n",
    "test_masks_path = '/kaggle/input/pannuke-images-dataset/Pan Nuke - Reduced/test/masks/'\n",
    "\n",
    "val_images_path = '/kaggle/input/pannuke-images-dataset/Pan Nuke - Reduced/val/images/'\n",
    "val_masks_path = '/kaggle/input/pannuke-images-dataset/Pan Nuke - Reduced/val/masks/'"
   ]
  },
  {
   "cell_type": "markdown",
   "metadata": {},
   "source": [
    "**Importing Libraries**"
   ]
  },
  {
   "cell_type": "code",
   "execution_count": null,
   "metadata": {
    "execution": {
     "iopub.execute_input": "2024-05-10T11:20:10.643894Z",
     "iopub.status.busy": "2024-05-10T11:20:10.643558Z",
     "iopub.status.idle": "2024-05-10T11:20:22.736493Z",
     "shell.execute_reply": "2024-05-10T11:20:22.735214Z",
     "shell.execute_reply.started": "2024-05-10T11:20:10.643859Z"
    },
    "trusted": true
   },
   "outputs": [],
   "source": [
    "import tensorflow as tf\n",
    "from tensorflow.keras.layers import Input, Conv2D, MaxPooling2D, Dropout, Conv2DTranspose, UpSampling2D, Concatenate, BatchNormalization, Activation, Add\n",
    "from tensorflow.keras.models import Model\n",
    "from tensorflow.keras.optimizers import Adam\n",
    "from keras.losses import Loss\n",
    "from keras.backend import epsilon\n",
    "from tensorflow import reduce_sum as sum\n",
    "from tensorflow.keras.utils import plot_model\n",
    "import numpy as np\n",
    "import matplotlib.pyplot as plt\n",
    "import cv2\n",
    "import os"
   ]
  },
  {
   "cell_type": "markdown",
   "metadata": {},
   "source": [
    "**Train, Test, Val Images Names List**"
   ]
  },
  {
   "cell_type": "code",
   "execution_count": null,
   "metadata": {
    "execution": {
     "iopub.execute_input": "2024-05-10T11:20:22.739456Z",
     "iopub.status.busy": "2024-05-10T11:20:22.738863Z",
     "iopub.status.idle": "2024-05-10T11:20:22.995036Z",
     "shell.execute_reply": "2024-05-10T11:20:22.99407Z",
     "shell.execute_reply.started": "2024-05-10T11:20:22.73943Z"
    },
    "trusted": true
   },
   "outputs": [],
   "source": [
    "# train images\n",
    "train_image_names = os.listdir(train_images_path)[:2000]\n",
    "\n",
    "# test images\n",
    "test_image_names = os.listdir(test_images_path)[:1000]\n",
    "\n",
    "# val images\n",
    "val_image_names = os.listdir(val_images_path)[:1000]"
   ]
  },
  {
   "cell_type": "markdown",
   "metadata": {},
   "source": [
    "**Display Images**"
   ]
  },
  {
   "cell_type": "code",
   "execution_count": null,
   "metadata": {
    "execution": {
     "iopub.execute_input": "2024-05-10T11:20:22.997191Z",
     "iopub.status.busy": "2024-05-10T11:20:22.996396Z",
     "iopub.status.idle": "2024-05-10T11:20:23.002357Z",
     "shell.execute_reply": "2024-05-10T11:20:23.001413Z",
     "shell.execute_reply.started": "2024-05-10T11:20:22.997161Z"
    },
    "trusted": true
   },
   "outputs": [],
   "source": [
    "labels = {0: \"Neoplastic cells\",\n",
    "1: \"Inflammatory\",\n",
    "2: \"Connective/Soft tissue cells\",\n",
    "3: \"Dead Cells\",\n",
    "4: \"Epithelial\",\n",
    "5: \"Background\"}"
   ]
  },
  {
   "cell_type": "code",
   "execution_count": null,
   "metadata": {
    "execution": {
     "iopub.execute_input": "2024-05-10T11:20:23.005292Z",
     "iopub.status.busy": "2024-05-10T11:20:23.004865Z",
     "iopub.status.idle": "2024-05-10T11:20:23.012186Z",
     "shell.execute_reply": "2024-05-10T11:20:23.011167Z",
     "shell.execute_reply.started": "2024-05-10T11:20:23.005259Z"
    },
    "trusted": true
   },
   "outputs": [],
   "source": [
    "# function to display predicted images\n",
    "def display(images):\n",
    "    # loop through each set of images\n",
    "    for i in range(images.shape[0]):\n",
    "        # create a subplot for each set of images\n",
    "        fig, axes = plt.subplots(1, images.shape[-1], figsize=(20, 4))\n",
    "        \n",
    "        k = 0  \n",
    "        \n",
    "        # loop through each image in the set\n",
    "        for j in range(images.shape[-1]):\n",
    "            # display the image on the corresponding subplot\n",
    "            axes[j].imshow(images[i, :, :, j], cmap='gray')\n",
    "            axes[j].axis('off') \n",
    "            axes[j].set_title(f'{labels[k]}')\n",
    "            k += 1\n",
    "        \n",
    "        plt.show()"
   ]
  },
  {
   "cell_type": "code",
   "execution_count": null,
   "metadata": {
    "execution": {
     "iopub.execute_input": "2024-05-10T11:20:23.013904Z",
     "iopub.status.busy": "2024-05-10T11:20:23.013602Z",
     "iopub.status.idle": "2024-05-10T11:20:23.020198Z",
     "shell.execute_reply": "2024-05-10T11:20:23.019249Z",
     "shell.execute_reply.started": "2024-05-10T11:20:23.013865Z"
    },
    "trusted": true
   },
   "outputs": [],
   "source": [
    "# display single mask of 256x256x6\n",
    "def display_mask(image):\n",
    "    plt.figure(figsize=(15, 10))\n",
    "    for i in range(image.shape[-1]):\n",
    "        plt.subplot(2, 3, i+1)\n",
    "        plt.imshow(image[:, :, i],cmap=\"gray\")\n",
    "        plt.title(f'Channel {i}')\n",
    "        plt.axis('off')\n",
    "    plt.show()"
   ]
  },
  {
   "cell_type": "code",
   "execution_count": null,
   "metadata": {
    "execution": {
     "iopub.execute_input": "2024-05-10T11:20:23.021575Z",
     "iopub.status.busy": "2024-05-10T11:20:23.021302Z",
     "iopub.status.idle": "2024-05-10T11:20:23.032299Z",
     "shell.execute_reply": "2024-05-10T11:20:23.031406Z",
     "shell.execute_reply.started": "2024-05-10T11:20:23.021554Z"
    },
    "trusted": true
   },
   "outputs": [],
   "source": [
    "# display single image\n",
    "def display_image(image, text=None, channels=1):\n",
    "    if channels == 1:\n",
    "        plt.imshow(image, cmap='gray')\n",
    "    else:\n",
    "        plt.imshow(image)\n",
    "\n",
    "    if text:\n",
    "        plt.text(0, 0, text, color='white', fontsize=12, ha='left', va='top', bbox=dict(facecolor='black', alpha=0.5))\n",
    "\n",
    "    plt.axis('off')\n",
    "    plt.show()"
   ]
  },
  {
   "cell_type": "code",
   "execution_count": null,
   "metadata": {
    "execution": {
     "iopub.execute_input": "2024-05-10T11:20:23.033699Z",
     "iopub.status.busy": "2024-05-10T11:20:23.033382Z",
     "iopub.status.idle": "2024-05-10T11:20:23.041806Z",
     "shell.execute_reply": "2024-05-10T11:20:23.040748Z",
     "shell.execute_reply.started": "2024-05-10T11:20:23.033671Z"
    },
    "trusted": true
   },
   "outputs": [],
   "source": [
    "# display images before and after normalization\n",
    "def display_images(images_path, original_image_names, normalized_images, num_images_to_display=1):\n",
    "    \n",
    "    # just to display original images\n",
    "    original_images = []\n",
    "    \n",
    "    for img in train_image_names[:num_images_to_display]:\n",
    "        image_path = os.path.join(images_path, img)\n",
    "        image = cv2.imread(image_path)\n",
    "        original_images.append(image)\n",
    "\n",
    "    plt.figure(figsize=(12, 6))\n",
    "\n",
    "    # display images before normalization\n",
    "    for i in range(num_images_to_display):\n",
    "        # Display original image\n",
    "        plt.subplot(2, num_images_to_display, i+1)\n",
    "        plt.imshow(original_images[i])\n",
    "        plt.axis('off')\n",
    "\n",
    "        # display normalized image\n",
    "        plt.subplot(2, num_images_to_display, num_images_to_display+i+1)\n",
    "        plt.imshow(normalized_images[i], cmap=\"gray\")\n",
    "        plt.axis('off')\n",
    "\n",
    "    plt.tight_layout()\n",
    "    plt.show()"
   ]
  },
  {
   "cell_type": "markdown",
   "metadata": {},
   "source": [
    "**Z-Score Normalization**"
   ]
  },
  {
   "cell_type": "code",
   "execution_count": null,
   "metadata": {
    "execution": {
     "iopub.execute_input": "2024-05-10T11:20:23.043321Z",
     "iopub.status.busy": "2024-05-10T11:20:23.042997Z",
     "iopub.status.idle": "2024-05-10T11:20:23.050888Z",
     "shell.execute_reply": "2024-05-10T11:20:23.050072Z",
     "shell.execute_reply.started": "2024-05-10T11:20:23.043297Z"
    },
    "trusted": true
   },
   "outputs": [],
   "source": [
    "# normalizing using z-score\n",
    "def z_score_normalization(image):\n",
    "    \n",
    "    image = image.astype(np.float32)\n",
    "\n",
    "    # calculating mean\n",
    "    mean = np.mean(image, axis=(0, 1))\n",
    "\n",
    "    # calculating std\n",
    "    std = np.std(image, axis=(0, 1))\n",
    "\n",
    "    # normalization function\n",
    "    # epsilon is added to avoid dividing by zero\n",
    "    normalized_image = (image - mean) / (std + 1e-7)\n",
    "\n",
    "    # convert to uint8 for image\n",
    "    normalized_image = normalized_image.astype(np.uint8)\n",
    "\n",
    "    return normalized_image"
   ]
  },
  {
   "cell_type": "markdown",
   "metadata": {},
   "source": [
    "**Contours**"
   ]
  },
  {
   "cell_type": "code",
   "execution_count": null,
   "metadata": {
    "execution": {
     "iopub.execute_input": "2024-05-10T11:20:23.052105Z",
     "iopub.status.busy": "2024-05-10T11:20:23.051816Z",
     "iopub.status.idle": "2024-05-10T11:20:23.059347Z",
     "shell.execute_reply": "2024-05-10T11:20:23.058344Z",
     "shell.execute_reply.started": "2024-05-10T11:20:23.05208Z"
    },
    "trusted": true
   },
   "outputs": [],
   "source": [
    "def contours(grayscale_image):\n",
    "\n",
    "    # apply Canny edge detection to find edges\n",
    "    edges = cv2.Canny(grayscale_image, 30, 150)\n",
    "\n",
    "    # find contours\n",
    "    contours, _ = cv2.findContours(edges.copy(), cv2.RETR_EXTERNAL, cv2.CHAIN_APPROX_SIMPLE)\n",
    "\n",
    "    # draw contours on the original image\n",
    "    contour_image = np.zeros_like(grayscale_image)\n",
    "    cv2.drawContours(contour_image, contours, -1, (255, 255, 255), 1)\n",
    "\n",
    "    return contour_image"
   ]
  },
  {
   "cell_type": "markdown",
   "metadata": {},
   "source": [
    "**CLAHE**"
   ]
  },
  {
   "cell_type": "code",
   "execution_count": null,
   "metadata": {
    "execution": {
     "iopub.execute_input": "2024-05-10T11:20:23.063609Z",
     "iopub.status.busy": "2024-05-10T11:20:23.063272Z",
     "iopub.status.idle": "2024-05-10T11:20:23.071108Z",
     "shell.execute_reply": "2024-05-10T11:20:23.070084Z",
     "shell.execute_reply.started": "2024-05-10T11:20:23.063578Z"
    },
    "trusted": true
   },
   "outputs": [],
   "source": [
    "def clahe(image):\n",
    "    lab = cv2.cvtColor(image, cv2.COLOR_BGR2LAB)\n",
    "    l_channel, a, b = cv2.split(lab)\n",
    "\n",
    "    # applying CLAHE to L-channel\n",
    "    clahe = cv2.createCLAHE(clipLimit=2.0, tileGridSize=(16,16))\n",
    "    cl = clahe.apply(l_channel)\n",
    "\n",
    "    # merge the CLAHE enhanced L-channel with the a and b channel\n",
    "    limg = cv2.merge((cl,a,b))\n",
    "\n",
    "    # converting image from LAB Color model to BGR color spcae\n",
    "    enhanced_img = cv2.cvtColor(limg, cv2.COLOR_LAB2BGR)\n",
    "        \n",
    "    return enhanced_img"
   ]
  },
  {
   "cell_type": "markdown",
   "metadata": {},
   "source": [
    "**Preprocessing Images**"
   ]
  },
  {
   "cell_type": "code",
   "execution_count": null,
   "metadata": {
    "execution": {
     "iopub.execute_input": "2024-05-10T11:20:23.072568Z",
     "iopub.status.busy": "2024-05-10T11:20:23.072279Z",
     "iopub.status.idle": "2024-05-10T11:20:23.07881Z",
     "shell.execute_reply": "2024-05-10T11:20:23.07802Z",
     "shell.execute_reply.started": "2024-05-10T11:20:23.072545Z"
    },
    "trusted": true
   },
   "outputs": [],
   "source": [
    "# preprocessing images\n",
    "def preprocess_images(image_names, images_path):\n",
    "\n",
    "    # creating empty list to store normalized images\n",
    "    normalized_images = []\n",
    "\n",
    "    for filename in image_names:\n",
    "\n",
    "        # read image\n",
    "        image_path = os.path.join(images_path, filename)\n",
    "        image = cv2.imread(image_path)\n",
    "        \n",
    "        # applying clahe\n",
    "        clahe_image = clahe(image)\n",
    "\n",
    "        # apply z-score normalization\n",
    "        normalized_image = z_score_normalization(clahe_image)\n",
    "        \n",
    "        # converting to grayscale image\n",
    "        #grayscale_image = cv2.cvtColor(normalized_image, cv2.COLOR_BGR2GRAY)\n",
    "        \n",
    "        # applying contours\n",
    "        #contour_image = contours(grayscale_image)\n",
    "\n",
    "        # append normalized image to the list\n",
    "        normalized_images.append(normalized_image)\n",
    "\n",
    "    return normalized_images"
   ]
  },
  {
   "cell_type": "markdown",
   "metadata": {},
   "source": [
    "**Applying Preprocessing on Images**"
   ]
  },
  {
   "cell_type": "markdown",
   "metadata": {},
   "source": [
    "**Testing Preprocessing**"
   ]
  },
  {
   "cell_type": "code",
   "execution_count": null,
   "metadata": {
    "execution": {
     "iopub.execute_input": "2024-05-10T11:20:23.080465Z",
     "iopub.status.busy": "2024-05-10T11:20:23.080036Z",
     "iopub.status.idle": "2024-05-10T11:20:24.17811Z",
     "shell.execute_reply": "2024-05-10T11:20:24.176828Z",
     "shell.execute_reply.started": "2024-05-10T11:20:23.080434Z"
    },
    "trusted": true
   },
   "outputs": [],
   "source": [
    "img_path = os.path.join(train_images_path, train_image_names[3])\n",
    "img = cv2.imread(img_path)\n",
    "display_image(img, text=\"Original Image\", channels=3)\n",
    "clahe_img = clahe(img)\n",
    "display_image(clahe_img, text=\"CLAHE Image\", channels=3)\n",
    "normalized_img = z_score_normalization(clahe_img)\n",
    "display_image(normalized_img, text=\"Normalized Image\", channels=3)\n",
    "grayscale_img = cv2.cvtColor(normalized_img, cv2.COLOR_BGR2GRAY)\n",
    "display_image(grayscale_img, text=\"Grayscale Image\", channels=1)\n",
    "contour_img = contours(grayscale_img)\n",
    "display_image(contour_img, text=\"Contour Image\", channels=1)"
   ]
  },
  {
   "cell_type": "code",
   "execution_count": null,
   "metadata": {
    "execution": {
     "iopub.execute_input": "2024-05-10T11:20:24.180785Z",
     "iopub.status.busy": "2024-05-10T11:20:24.179975Z",
     "iopub.status.idle": "2024-05-10T11:21:20.225891Z",
     "shell.execute_reply": "2024-05-10T11:21:20.225007Z",
     "shell.execute_reply.started": "2024-05-10T11:20:24.180718Z"
    },
    "trusted": true
   },
   "outputs": [],
   "source": [
    "# preprocess training images\n",
    "train_normalized_images = preprocess_images(train_image_names, train_images_path)\n",
    "\n",
    "# preprocess test images\n",
    "test_normalized_images = preprocess_images(test_image_names, test_images_path)\n",
    "\n",
    "# preprocess validation images\n",
    "val_normalized_images = preprocess_images(val_image_names, val_images_path)\n",
    "\n",
    "# just to display first 5 images\n",
    "train_imgs = []\n",
    "\n",
    "\n",
    "# display images\n",
    "# display first five\n",
    "n= 5\n",
    "display_images(train_images_path, train_image_names, train_normalized_images, n)"
   ]
  },
  {
   "cell_type": "markdown",
   "metadata": {},
   "source": [
    "**Preprocessing Masks**"
   ]
  },
  {
   "cell_type": "code",
   "execution_count": null,
   "metadata": {
    "execution": {
     "iopub.execute_input": "2024-05-10T11:21:20.227777Z",
     "iopub.status.busy": "2024-05-10T11:21:20.227169Z",
     "iopub.status.idle": "2024-05-10T11:21:20.235957Z",
     "shell.execute_reply": "2024-05-10T11:21:20.235111Z",
     "shell.execute_reply.started": "2024-05-10T11:21:20.227733Z"
    },
    "trusted": true
   },
   "outputs": [],
   "source": [
    "# getting masks of each image\n",
    "def get_masks(image_names, mask_names):\n",
    "\n",
    "    # creating empty list to store lists of masks for each image\n",
    "    masks =  []\n",
    "\n",
    "    for filename in image_names:\n",
    "\n",
    "        # extract image name without extension\n",
    "        image_name = os.path.splitext(filename)[0]\n",
    "\n",
    "        # creating empty list to store 6 masks of each image\n",
    "        m = []\n",
    "\n",
    "        for i in range(1, 7):\n",
    "            mask_path = os.path.join(mask_names, f\"{image_name}.jpeg_mask_{i}.png\")\n",
    "            mask = cv2.imread(mask_path, cv2.IMREAD_GRAYSCALE)\n",
    "\n",
    "            # apply threshold to convert grayscale mask image to binary\n",
    "            _, binary_mask = cv2.threshold(mask, 0, 255, cv2.THRESH_BINARY)\n",
    "\n",
    "            m.append(binary_mask)\n",
    "\n",
    "        masks.append(m)\n",
    "\n",
    "    return masks"
   ]
  },
  {
   "cell_type": "code",
   "execution_count": null,
   "metadata": {
    "execution": {
     "iopub.execute_input": "2024-05-10T11:21:20.237516Z",
     "iopub.status.busy": "2024-05-10T11:21:20.237208Z",
     "iopub.status.idle": "2024-05-10T11:21:20.247269Z",
     "shell.execute_reply": "2024-05-10T11:21:20.246148Z",
     "shell.execute_reply.started": "2024-05-10T11:21:20.23749Z"
    },
    "trusted": true
   },
   "outputs": [],
   "source": [
    "# combining masks of each image\n",
    "def combine_masks(mask_lists):\n",
    "    \n",
    "    combined_masks = []\n",
    "\n",
    "    for masks in mask_lists:\n",
    "        # stack the masks along a new axis to create a single image with six channels\n",
    "        combined_mask = np.stack(masks, axis=-1)\n",
    "\n",
    "        # append the combined mask to the list\n",
    "        combined_masks.append(combined_mask)\n",
    "\n",
    "    return combined_masks"
   ]
  },
  {
   "cell_type": "markdown",
   "metadata": {},
   "source": [
    "**Calling Functions to Get Masks and Combine them**"
   ]
  },
  {
   "cell_type": "code",
   "execution_count": null,
   "metadata": {
    "execution": {
     "iopub.execute_input": "2024-05-10T11:21:20.248906Z",
     "iopub.status.busy": "2024-05-10T11:21:20.248558Z",
     "iopub.status.idle": "2024-05-10T11:22:02.90807Z",
     "shell.execute_reply": "2024-05-10T11:22:02.90645Z",
     "shell.execute_reply.started": "2024-05-10T11:21:20.248877Z"
    },
    "trusted": true
   },
   "outputs": [],
   "source": [
    "# get train masks\n",
    "train_masks = get_masks(train_image_names, train_masks_path)\n",
    "\n",
    "# combined train masks\n",
    "combined_train_masks = combine_masks(train_masks)"
   ]
  },
  {
   "cell_type": "code",
   "execution_count": null,
   "metadata": {
    "execution": {
     "iopub.execute_input": "2024-05-10T11:22:02.910649Z",
     "iopub.status.busy": "2024-05-10T11:22:02.909942Z",
     "iopub.status.idle": "2024-05-10T11:22:23.487312Z",
     "shell.execute_reply": "2024-05-10T11:22:23.486342Z",
     "shell.execute_reply.started": "2024-05-10T11:22:02.910614Z"
    },
    "trusted": true
   },
   "outputs": [],
   "source": [
    "# get test masks\n",
    "test_masks = get_masks(test_image_names, test_masks_path)\n",
    "\n",
    "# combined test masks\n",
    "combined_test_masks = combine_masks(test_masks)"
   ]
  },
  {
   "cell_type": "code",
   "execution_count": null,
   "metadata": {
    "execution": {
     "iopub.execute_input": "2024-05-10T11:22:23.48878Z",
     "iopub.status.busy": "2024-05-10T11:22:23.488507Z",
     "iopub.status.idle": "2024-05-10T11:22:44.740641Z",
     "shell.execute_reply": "2024-05-10T11:22:44.739872Z",
     "shell.execute_reply.started": "2024-05-10T11:22:23.488747Z"
    },
    "trusted": true
   },
   "outputs": [],
   "source": [
    "# get val masks\n",
    "val_masks = get_masks(val_image_names, val_masks_path)\n",
    "\n",
    "# combined val masks\n",
    "combined_val_masks = combine_masks(val_masks)"
   ]
  },
  {
   "cell_type": "markdown",
   "metadata": {},
   "source": [
    "**Normalized Image and its Masks**"
   ]
  },
  {
   "cell_type": "code",
   "execution_count": null,
   "metadata": {
    "execution": {
     "iopub.execute_input": "2024-05-10T11:22:44.742113Z",
     "iopub.status.busy": "2024-05-10T11:22:44.741775Z",
     "iopub.status.idle": "2024-05-10T11:22:44.897146Z",
     "shell.execute_reply": "2024-05-10T11:22:44.895824Z",
     "shell.execute_reply.started": "2024-05-10T11:22:44.742083Z"
    },
    "trusted": true
   },
   "outputs": [],
   "source": [
    "display_image(train_normalized_images[3], text=\"Normalized Image\", channels=1)"
   ]
  },
  {
   "cell_type": "code",
   "execution_count": null,
   "metadata": {
    "execution": {
     "iopub.execute_input": "2024-05-10T11:22:44.90046Z",
     "iopub.status.busy": "2024-05-10T11:22:44.899037Z",
     "iopub.status.idle": "2024-05-10T11:22:45.71759Z",
     "shell.execute_reply": "2024-05-10T11:22:45.716585Z",
     "shell.execute_reply.started": "2024-05-10T11:22:44.900408Z"
    },
    "trusted": true
   },
   "outputs": [],
   "source": [
    "display_mask(combined_train_masks[3])"
   ]
  },
  {
   "cell_type": "markdown",
   "metadata": {},
   "source": [
    "**Converting Numpy arrays to Tensors**"
   ]
  },
  {
   "cell_type": "code",
   "execution_count": null,
   "metadata": {
    "execution": {
     "iopub.execute_input": "2024-05-10T11:22:45.719239Z",
     "iopub.status.busy": "2024-05-10T11:22:45.71889Z",
     "iopub.status.idle": "2024-05-10T11:26:54.217495Z",
     "shell.execute_reply": "2024-05-10T11:26:54.216072Z",
     "shell.execute_reply.started": "2024-05-10T11:22:45.719207Z"
    },
    "trusted": true
   },
   "outputs": [],
   "source": [
    "# tensor of train images\n",
    "train_normalized_images = tf.convert_to_tensor(train_normalized_images)"
   ]
  },
  {
   "cell_type": "code",
   "execution_count": null,
   "metadata": {
    "execution": {
     "iopub.execute_input": "2024-05-10T11:26:54.219407Z",
     "iopub.status.busy": "2024-05-10T11:26:54.218995Z",
     "iopub.status.idle": "2024-05-10T11:28:58.185895Z",
     "shell.execute_reply": "2024-05-10T11:28:58.184745Z",
     "shell.execute_reply.started": "2024-05-10T11:26:54.219373Z"
    },
    "trusted": true
   },
   "outputs": [],
   "source": [
    "# tensor of test images\n",
    "test_normalized_images = tf.convert_to_tensor(test_normalized_images)"
   ]
  },
  {
   "cell_type": "code",
   "execution_count": null,
   "metadata": {
    "execution": {
     "iopub.execute_input": "2024-05-10T11:28:58.18768Z",
     "iopub.status.busy": "2024-05-10T11:28:58.187229Z",
     "iopub.status.idle": "2024-05-10T11:31:03.519924Z",
     "shell.execute_reply": "2024-05-10T11:31:03.518772Z",
     "shell.execute_reply.started": "2024-05-10T11:28:58.187645Z"
    },
    "trusted": true
   },
   "outputs": [],
   "source": [
    "# tensor of val images\n",
    "val_normalized_images = tf.convert_to_tensor(val_normalized_images)"
   ]
  },
  {
   "cell_type": "code",
   "execution_count": null,
   "metadata": {
    "execution": {
     "iopub.execute_input": "2024-05-10T11:31:03.521856Z",
     "iopub.status.busy": "2024-05-10T11:31:03.521522Z",
     "iopub.status.idle": "2024-05-10T11:36:31.999599Z",
     "shell.execute_reply": "2024-05-10T11:36:31.998519Z",
     "shell.execute_reply.started": "2024-05-10T11:31:03.521821Z"
    },
    "trusted": true
   },
   "outputs": [],
   "source": [
    "# tensor of combined test masks\n",
    "combined_train_masks = tf.convert_to_tensor(combined_train_masks)"
   ]
  },
  {
   "cell_type": "code",
   "execution_count": null,
   "metadata": {
    "execution": {
     "iopub.execute_input": "2024-05-10T11:36:32.00107Z",
     "iopub.status.busy": "2024-05-10T11:36:32.000718Z",
     "iopub.status.idle": "2024-05-10T11:39:12.120041Z",
     "shell.execute_reply": "2024-05-10T11:39:12.118922Z",
     "shell.execute_reply.started": "2024-05-10T11:36:32.001034Z"
    },
    "trusted": true
   },
   "outputs": [],
   "source": [
    "# tensor of combined test masks\n",
    "combined_test_masks = tf.convert_to_tensor(combined_test_masks)"
   ]
  },
  {
   "cell_type": "code",
   "execution_count": null,
   "metadata": {
    "execution": {
     "iopub.execute_input": "2024-05-10T11:39:12.121801Z",
     "iopub.status.busy": "2024-05-10T11:39:12.121382Z",
     "iopub.status.idle": "2024-05-10T11:41:50.861642Z",
     "shell.execute_reply": "2024-05-10T11:41:50.860528Z",
     "shell.execute_reply.started": "2024-05-10T11:39:12.121746Z"
    },
    "trusted": true
   },
   "outputs": [],
   "source": [
    "# tensor of combined val masks\n",
    "combined_val_masks = tf.convert_to_tensor(combined_val_masks)"
   ]
  },
  {
   "cell_type": "markdown",
   "metadata": {},
   "source": [
    "**Dice Loss**"
   ]
  },
  {
   "cell_type": "code",
   "execution_count": null,
   "metadata": {
    "execution": {
     "iopub.execute_input": "2024-05-10T11:41:50.863527Z",
     "iopub.status.busy": "2024-05-10T11:41:50.863124Z",
     "iopub.status.idle": "2024-05-10T11:41:50.871717Z",
     "shell.execute_reply": "2024-05-10T11:41:50.870709Z",
     "shell.execute_reply.started": "2024-05-10T11:41:50.863495Z"
    },
    "trusted": true
   },
   "outputs": [],
   "source": [
    "class DiceLoss(tf.keras.losses.Loss):\n",
    "    def __init__(self, epsilon=1e-6, name='dice_loss'):\n",
    "        super().__init__(name=name)\n",
    "        self.epsilon = epsilon\n",
    "\n",
    "    def call(self, y_true, y_pred):\n",
    "        dice_losses = []\n",
    "        for i in range(y_true.shape[-1]):\n",
    "            intersection = tf.reduce_sum(y_true[..., i] * y_pred[..., i])\n",
    "            dice_coeff = (2. * intersection + self.epsilon) / (tf.reduce_sum(y_true[..., i]) + tf.reduce_sum(y_pred[..., i]) + self.epsilon)\n",
    "            dice_losses.append(1. - dice_coeff)\n",
    "        return tf.reduce_mean(dice_losses)"
   ]
  },
  {
   "cell_type": "markdown",
   "metadata": {},
   "source": [
    "**U-Net Model with Resnet Encoder**"
   ]
  },
  {
   "cell_type": "code",
   "execution_count": null,
   "metadata": {
    "execution": {
     "iopub.execute_input": "2024-05-10T11:41:50.879488Z",
     "iopub.status.busy": "2024-05-10T11:41:50.878911Z",
     "iopub.status.idle": "2024-05-10T11:42:08.151546Z",
     "shell.execute_reply": "2024-05-10T11:42:08.150457Z",
     "shell.execute_reply.started": "2024-05-10T11:41:50.879462Z"
    },
    "trusted": true
   },
   "outputs": [],
   "source": [
    "!pip install git+https://github.com/qubvel/segmentation_models"
   ]
  },
  {
   "cell_type": "code",
   "execution_count": null,
   "metadata": {
    "execution": {
     "iopub.execute_input": "2024-05-10T11:42:08.153295Z",
     "iopub.status.busy": "2024-05-10T11:42:08.15299Z",
     "iopub.status.idle": "2024-05-10T11:42:08.158554Z",
     "shell.execute_reply": "2024-05-10T11:42:08.157482Z",
     "shell.execute_reply.started": "2024-05-10T11:42:08.153261Z"
    },
    "trusted": true
   },
   "outputs": [],
   "source": [
    "os.environ['SM_FRAMEWORK'] = 'tf.keras'"
   ]
  },
  {
   "cell_type": "code",
   "execution_count": null,
   "metadata": {
    "execution": {
     "iopub.execute_input": "2024-05-10T11:42:08.160098Z",
     "iopub.status.busy": "2024-05-10T11:42:08.159741Z",
     "iopub.status.idle": "2024-05-10T11:42:10.114521Z",
     "shell.execute_reply": "2024-05-10T11:42:10.113777Z",
     "shell.execute_reply.started": "2024-05-10T11:42:08.160074Z"
    },
    "trusted": true
   },
   "outputs": [],
   "source": [
    "import segmentation_models as sm\n",
    "\n",
    "\n",
    "BACKBONE = 'resnet34'\n",
    "#preprocess_input = sm.get_preprocessing(BACKBONE)\n",
    "\n",
    "model = sm.Unet(BACKBONE, classes=6, activation=\"softmax\")"
   ]
  },
  {
   "cell_type": "code",
   "execution_count": null,
   "metadata": {
    "execution": {
     "iopub.execute_input": "2024-05-10T11:42:10.115999Z",
     "iopub.status.busy": "2024-05-10T11:42:10.115513Z",
     "iopub.status.idle": "2024-05-10T11:42:10.394596Z",
     "shell.execute_reply": "2024-05-10T11:42:10.393781Z",
     "shell.execute_reply.started": "2024-05-10T11:42:10.115973Z"
    },
    "trusted": true
   },
   "outputs": [],
   "source": [
    "# getting the last layer to modify\n",
    "output_layer = model.layers[-1]\n",
    "\n",
    "# modifying last layer\n",
    "model.layers[-1] = Conv2D(6, (1, 1), activation='softmax', name='output_layer')\n",
    "\n",
    "model.compile(\n",
    "    loss=DiceLoss(),\n",
    "    optimizer='adam',\n",
    "    metrics=['accuracy']\n",
    ")\n",
    "\n",
    "model.summary()"
   ]
  },
  {
   "cell_type": "markdown",
   "metadata": {},
   "source": [
    "**Train Model**"
   ]
  },
  {
   "cell_type": "code",
   "execution_count": null,
   "metadata": {
    "execution": {
     "iopub.execute_input": "2024-05-10T11:42:10.396625Z",
     "iopub.status.busy": "2024-05-10T11:42:10.395869Z",
     "iopub.status.idle": "2024-05-10T11:49:31.949236Z",
     "shell.execute_reply": "2024-05-10T11:49:31.948327Z",
     "shell.execute_reply.started": "2024-05-10T11:42:10.396591Z"
    },
    "trusted": true
   },
   "outputs": [],
   "source": [
    "model.fit(\n",
    "   x=train_normalized_images,\n",
    "   y=combined_train_masks,\n",
    "   batch_size=16,\n",
    "   epochs=10,\n",
    "   validation_data=(val_normalized_images, combined_val_masks),\n",
    ")"
   ]
  },
  {
   "cell_type": "markdown",
   "metadata": {},
   "source": [
    "**Evaluate Model**"
   ]
  },
  {
   "cell_type": "code",
   "execution_count": null,
   "metadata": {
    "execution": {
     "iopub.execute_input": "2024-05-10T11:49:31.950719Z",
     "iopub.status.busy": "2024-05-10T11:49:31.950418Z",
     "iopub.status.idle": "2024-05-10T11:50:12.96225Z",
     "shell.execute_reply": "2024-05-10T11:50:12.961253Z",
     "shell.execute_reply.started": "2024-05-10T11:49:31.950692Z"
    },
    "trusted": true
   },
   "outputs": [],
   "source": [
    "# evaluate on test set\n",
    "test_loss, test_dice = model.evaluate(test_normalized_images, combined_test_masks)\n",
    "print(f'Test Loss: {test_loss:.4f}, Test Dice Coefficient: {test_dice:.4f}')"
   ]
  },
  {
   "cell_type": "markdown",
   "metadata": {},
   "source": [
    "**Pipleline**"
   ]
  },
  {
   "cell_type": "code",
   "execution_count": null,
   "metadata": {
    "execution": {
     "iopub.execute_input": "2024-05-10T11:50:12.963811Z",
     "iopub.status.busy": "2024-05-10T11:50:12.963496Z",
     "iopub.status.idle": "2024-05-10T11:50:12.968707Z",
     "shell.execute_reply": "2024-05-10T11:50:12.967805Z",
     "shell.execute_reply.started": "2024-05-10T11:50:12.963785Z"
    },
    "trusted": true
   },
   "outputs": [],
   "source": [
    "def pipeline(image_names, images_path):\n",
    "    norm_images = preprocess_images(image_names, images_path)\n",
    "    #display_images(images_path, image_names, norm_images, len(image_names))\n",
    "    img = tf.convert_to_tensor(norm_images)\n",
    "    pred = model.predict(img)\n",
    "    display(pred)"
   ]
  },
  {
   "cell_type": "markdown",
   "metadata": {},
   "source": [
    "**Predicted Images**"
   ]
  },
  {
   "cell_type": "code",
   "execution_count": null,
   "metadata": {
    "execution": {
     "iopub.execute_input": "2024-05-10T12:03:19.362705Z",
     "iopub.status.busy": "2024-05-10T12:03:19.362031Z",
     "iopub.status.idle": "2024-05-10T12:03:22.581867Z",
     "shell.execute_reply": "2024-05-10T12:03:22.580885Z",
     "shell.execute_reply.started": "2024-05-10T12:03:19.362673Z"
    },
    "trusted": true
   },
   "outputs": [],
   "source": [
    "images_path = test_images_path\n",
    "predicted_image_names= os.listdir(images_path)[12:17]\n",
    "\n",
    "pipeline(predicted_image_names, images_path)"
   ]
  },
  {
   "cell_type": "markdown",
   "metadata": {},
   "source": [
    "**Predicted Images Names**"
   ]
  },
  {
   "cell_type": "code",
   "execution_count": null,
   "metadata": {
    "execution": {
     "iopub.execute_input": "2024-05-10T12:03:25.73243Z",
     "iopub.status.busy": "2024-05-10T12:03:25.732066Z",
     "iopub.status.idle": "2024-05-10T12:03:25.738564Z",
     "shell.execute_reply": "2024-05-10T12:03:25.737627Z",
     "shell.execute_reply.started": "2024-05-10T12:03:25.732403Z"
    },
    "trusted": true
   },
   "outputs": [],
   "source": [
    "predicted_image_names"
   ]
  },
  {
   "cell_type": "markdown",
   "metadata": {},
   "source": [
    "**Ground Truth**"
   ]
  },
  {
   "cell_type": "code",
   "execution_count": null,
   "metadata": {
    "execution": {
     "iopub.execute_input": "2024-05-10T12:05:48.151173Z",
     "iopub.status.busy": "2024-05-10T12:05:48.150315Z",
     "iopub.status.idle": "2024-05-10T12:05:48.383819Z",
     "shell.execute_reply": "2024-05-10T12:05:48.382816Z",
     "shell.execute_reply.started": "2024-05-10T12:05:48.151141Z"
    },
    "trusted": true
   },
   "outputs": [],
   "source": [
    "image_path = os.path.join(test_images_path, predicted_image_names[1])\n",
    "image = cv2.imread(image_path)\n",
    "display_image(image, text=None, channels=3)"
   ]
  },
  {
   "cell_type": "code",
   "execution_count": null,
   "metadata": {
    "execution": {
     "iopub.execute_input": "2024-05-10T12:05:51.684083Z",
     "iopub.status.busy": "2024-05-10T12:05:51.683473Z",
     "iopub.status.idle": "2024-05-10T12:05:52.941216Z",
     "shell.execute_reply": "2024-05-10T12:05:52.940259Z",
     "shell.execute_reply.started": "2024-05-10T12:05:51.68405Z"
    },
    "trusted": true
   },
   "outputs": [],
   "source": [
    "test_masks = get_masks(image_names, test_masks_path)\n",
    "groundTruth_test_masks = combine_masks(test_masks)\n",
    "display_mask(groundTruth_test_masks[1])"
   ]
  }
 ],
 "metadata": {
  "kaggle": {
   "accelerator": "nvidiaTeslaT4",
   "dataSources": [
    {
     "datasetId": 4893038,
     "sourceId": 8247199,
     "sourceType": "datasetVersion"
    }
   ],
   "dockerImageVersionId": 30698,
   "isGpuEnabled": true,
   "isInternetEnabled": false,
   "language": "python",
   "sourceType": "notebook"
  },
  "kernelspec": {
   "display_name": "Python 3",
   "language": "python",
   "name": "python3"
  },
  "language_info": {
   "codemirror_mode": {
    "name": "ipython",
    "version": 3
   },
   "file_extension": ".py",
   "mimetype": "text/x-python",
   "name": "python",
   "nbconvert_exporter": "python",
   "pygments_lexer": "ipython3",
   "version": "3.10.13"
  }
 },
 "nbformat": 4,
 "nbformat_minor": 4
}
